{
 "cells": [
  {
   "cell_type": "code",
   "execution_count": 682,
   "id": "ded87222-4042-4a84-8286-d35d5592ce1b",
   "metadata": {},
   "outputs": [],
   "source": [
    "#[derive(Debug, Clone, Copy)]\n",
    "enum Order {\n",
    "    FirstOrder,\n",
    "    SecondOrder,\n",
    "}\n",
    "\n",
    "#[derive(Debug, Clone, Copy)]\n",
    "enum Style {\n",
    "    HardClip,\n",
    "    Tanh,\n",
    "}\n",
    "\n",
    "#[derive(Debug, Clone, Copy)]\n",
    "enum State {\n",
    "    ProcessorState(Style, Order)\n",
    "}\n",
    "\n",
    "#[derive(Debug)]\n",
    "enum Transition {\n",
    "    ChangeOrder(Order),\n",
    "    ChangeStyle(Style),\n",
    "}\n",
    "\n",
    "use State::*;\n",
    "use Style::*;\n",
    "use Order::*;\n",
    "use Transition::*;"
   ]
  },
  {
   "cell_type": "code",
   "execution_count": 694,
   "id": "17b90430-cd7c-437f-b787-d08256b0ff53",
   "metadata": {},
   "outputs": [],
   "source": [
    "type H = fn(f64) -> f64;\n",
    "type H1 = fn(f64) -> f64;\n",
    "type H2 = fn(f64) -> f64;\n",
    "type T = fn(f64) -> f64;\n",
    "type T1 = fn(f64) -> f64;\n",
    "type T2 = fn(f64) -> f64;\n",
    "\n",
    "const ERR_TOL: f64 = 1e-5;\n",
    "\n",
    "#[derive(Debug, Copy, Clone)]\n",
    "struct ProcState {\n",
    "    x1: f64,\n",
    "    x2: f64,\n",
    "    d2: f64,\n",
    "    ad1_x1: f64,\n",
    "    ad2_x0: f64,\n",
    "    ad2_x1: f64,\n",
    "    nl_func: H,\n",
    "    nl_func_ad1: H1,\n",
    "    nl_func_ad2: H2,\n",
    "}\n",
    "\n",
    "impl ProcState {\n",
    "\n",
    "    #[inline]\n",
    "    fn tanh_ad2(x: f64) -> f64 {\n",
    "        let expval = (-2. * x).exp();\n",
    "        0.5 * (-expval.li2() - x * (x + 2.0 * (expval + 1.).ln() - 2.0 * x.cosh().ln()))\n",
    "            + (PI.powi(2) / 24.0)\n",
    "    }\n",
    "    \n",
    "    #[inline]\n",
    "    fn hard_clip_ad1(val: f64) -> f64 {\n",
    "        if val.abs() <= 1.0 {\n",
    "            0.5 * val.powi(2)\n",
    "        } else {\n",
    "            (val * val.signum()) - 0.5\n",
    "        }\n",
    "    }\n",
    "\n",
    "    #[inline]\n",
    "    fn hard_clip_ad2(val: f64) -> f64 {\n",
    "        if val.abs() <= 1. {\n",
    "            val.powi(3) * (1. / 6.)\n",
    "        } else {\n",
    "            (((val.powi(2) * 0.5) + (1. / 6.)) * val.signum()) - (val * 0.5)\n",
    "        }\n",
    "    }\n",
    "    \n",
    "    fn first_order_tanh() -> ProcState {\n",
    "        ProcState {\n",
    "            x1: 0.0,\n",
    "            x2: 0.0,\n",
    "            d2: 0.0,\n",
    "            ad1_x1: 0.0,\n",
    "            ad2_x0: 0.0,\n",
    "            ad2_x1: 0.0,\n",
    "            nl_func: |x| x.tanh(),\n",
    "            nl_func_ad1: |x| x.cosh().ln(),\n",
    "            nl_func_ad2: |x| x,\n",
    "        }\n",
    "    }\n",
    "\n",
    "    fn second_order_tanh() -> ProcState {\n",
    "        ProcState {\n",
    "            x1: 0.0,\n",
    "            x2: 0.0,\n",
    "            d2: 0.0,\n",
    "            ad1_x1: 0.0,\n",
    "            ad2_x0: 0.0,\n",
    "            ad2_x1: 0.0,\n",
    "            nl_func: |x| x.tanh(),\n",
    "            nl_func_ad1: |x| x.cosh().ln(),\n",
    "            nl_func_ad2: |x| ProcState::tanh_ad2(x),\n",
    "        }\n",
    "    }\n",
    "\n",
    "    fn first_order_hard_clip() -> ProcState {\n",
    "        ProcState {\n",
    "            x1: 0.0,\n",
    "            x2: 0.0,\n",
    "            d2: 0.0,\n",
    "            ad1_x1: 0.0,\n",
    "            ad2_x0: 0.0,\n",
    "            ad2_x1: 0.0,\n",
    "            nl_func: |x| x.clamp(-1.0, 1.0),\n",
    "            nl_func_ad1: |x| ProcState::hard_clip_ad1(x),\n",
    "            nl_func_ad2: |x| x,\n",
    "        }\n",
    "    }\n",
    "\n",
    "    fn second_order_hard_clip() -> ProcState {\n",
    "        ProcState {\n",
    "            x1: 0.0,\n",
    "            x2: 0.0,\n",
    "            d2: 0.0,\n",
    "            ad1_x1: 0.0,\n",
    "            ad2_x0: 0.0,\n",
    "            ad2_x1: 0.0,\n",
    "            nl_func: |x| x.clamp(-1.0, 1.0),\n",
    "            nl_func_ad1: |x| ProcState::hard_clip_ad1(x),\n",
    "            nl_func_ad2: |x| ProcState::hard_clip_ad2(x),\n",
    "        }\n",
    "    }\n",
    "}\n",
    "\n",
    "#[derive(Debug, Copy, Clone)]\n",
    "struct ADAA {\n",
    "    current_proc_state: ProcState,\n",
    "    proc_alg: fn(f64, &mut ProcState)->f32,\n",
    "}\n",
    "\n",
    "impl ADAA {\n",
    "        fn first_order_tanh() -> ADAA {\n",
    "            let mut new_state = ProcState::first_order_tanh();\n",
    "            ADAA {\n",
    "                current_proc_state: new_state,\n",
    "                proc_alg: |x: f64, y: &mut ProcState| ADAA::process_first_order(y, x),\n",
    "            }\n",
    "        }\n",
    "\n",
    "        fn second_order_tanh() -> ADAA {\n",
    "            let mut new_state = ProcState::second_order_tanh();\n",
    "            ADAA {\n",
    "                current_proc_state: new_state,\n",
    "                proc_alg: |x: f64, y: &mut ProcState| ADAA::process_second_order(y, x),\n",
    "            }\n",
    "        }\n",
    "\n",
    "        fn first_order_hard_clip() -> ADAA {\n",
    "            let mut new_state = ProcState::first_order_hard_clip();\n",
    "            ADAA {\n",
    "                current_proc_state: new_state,\n",
    "                proc_alg: |x: f64, y: &mut ProcState| ADAA::process_first_order(y, x),\n",
    "            }\n",
    "        }\n",
    "\n",
    "        fn second_order_hard_clip() -> ADAA {\n",
    "            let mut new_state = ProcState::second_order_hard_clip();\n",
    "            ADAA {\n",
    "                current_proc_state: new_state,\n",
    "                proc_alg: |x: f64, y: &mut ProcState| ADAA::process_second_order(y, x),\n",
    "            }\n",
    "        }\n",
    "\n",
    "        fn process(&mut self, val: f64) -> f32 {\n",
    "            (self.proc_alg)(val, &mut self.current_proc_state)\n",
    "        }\n",
    "\n",
    "        fn process_first_order(state: &mut ProcState, val: f64) -> f32 {\n",
    "            let diff = val - state.x1;\n",
    "            let ad1_x0 = (state.nl_func_ad1)(val);\n",
    "    \n",
    "            let result = if diff.abs() < 1e-5 {\n",
    "                (state.nl_func)((val + state.x1) / 2.)\n",
    "            } else {\n",
    "                (ad1_x0 - state.ad1_x1) / diff\n",
    "            };\n",
    "    \n",
    "            state.x1 = val;\n",
    "            state.ad1_x1 = ad1_x0;\n",
    "    \n",
    "            result as f32\n",
    "        }\n",
    "        \n",
    "        fn process_second_order(state: &mut ProcState, val: f64) -> f32 {\n",
    "            state.ad2_x0 = (state.nl_func_ad2)(val);\n",
    "            let d1 = if (val - state.x1).abs() < ERR_TOL {\n",
    "                (state.nl_func_ad1)(0.5 * (val + state.x1))\n",
    "            } else {\n",
    "                (state.ad2_x0 - state.ad2_x1) / (val - state.x1)\n",
    "            };\n",
    "    \n",
    "            let result = if (val - state.x2).abs() < ERR_TOL {\n",
    "                let xbar = 0.5 * (val + state.x2);\n",
    "                let delta = xbar - state.x1;\n",
    "                if (delta.abs() < ERR_TOL) {\n",
    "                    (state.nl_func)(0.5 * (xbar + state.x1))\n",
    "                } else {\n",
    "                    (2.0 / delta)\n",
    "                        * ((state.nl_func_ad1)(xbar)\n",
    "                           + (state.ad2_x1 - (state.nl_func_ad2)(xbar)) / delta)\n",
    "                }\n",
    "            } else {\n",
    "                (2.0 / (val - state.x2)) * (d1 - state.d2)\n",
    "            };\n",
    "            \n",
    "            state.d2 = d1;\n",
    "            state.x2 = state.x1;\n",
    "            state.x1 = val;\n",
    "            state.ad2_x1 = state.ad2_x0;\n",
    "            \n",
    "            result as f32\n",
    "        }\n",
    "        \n",
    "\n",
    "}"
   ]
  },
  {
   "cell_type": "code",
   "execution_count": 695,
   "id": "1244820f-9743-4949-a50b-16367a77191c",
   "metadata": {},
   "outputs": [],
   "source": [
    "type H = fn(f64) -> f64;\n",
    "type H1 = fn(f64) -> f64;\n",
    "type H2 = fn(f64) -> f64;\n",
    "type T = fn(f64) -> f64;\n",
    "type T1 = fn(f64) -> f64;\n",
    "type T2 = fn(f64) -> f64;\n",
    "\n",
    "const ERR_TOL: f64 = 1e-5;\n",
    "\n",
    "#[derive(Debug, Clone)]\n",
    "struct NonlinearProcessor {\n",
    "    state: State,\n",
    "    proc: ADAA,\n",
    "}\n",
    "\n",
    "impl NonlinearProcessor {\n",
    "    fn new() -> Self {\n",
    "        NonlinearProcessor {\n",
    "            state: ProcessorState(HardClip, FirstOrder),\n",
    "            proc: ADAA::first_order_hard_clip(),\n",
    "        }\n",
    "    }\n",
    "\n",
    "    fn change_state(&mut self, transition: Transition) {\n",
    "        let new_state = match (self.state, transition) {\n",
    "            (ProcessorState(old_style, _), ChangeOrder(new_order)) => ProcessorState(old_style, new_order),\n",
    "            (ProcessorState(_, old_order), ChangeStyle(new_style)) => ProcessorState(new_style, old_order),\n",
    "        };\n",
    "\n",
    "        self.reset_with_new_state(new_state);\n",
    "    }\n",
    "\n",
    "    fn reset_with_new_state(&mut self, new_state: State) {\n",
    "        match new_state {\n",
    "            ProcessorState(HardClip, FirstOrder) => self.initialize_as_first_order_hc(),\n",
    "            ProcessorState(HardClip, SecondOrder) => self.initialize_as_second_order_hc(),\n",
    "            ProcessorState(Tanh, FirstOrder) => self.initialize_as_first_order_tanh(),\n",
    "            ProcessorState(Tanh, SecondOrder) => self.initialize_as_second_order_tanh(),\n",
    "        }\n",
    "    }\n",
    "\n",
    "    fn process(&mut self, val: f32) -> f32 {\n",
    "        self.proc.process(val as f64)\n",
    "    }\n",
    "\n",
    "    fn initialize_as_first_order_hc(&mut self) {\n",
    "        self.state = ProcessorState(HardClip, FirstOrder);\n",
    "        self.proc = ADAA::first_order_hard_clip();\n",
    "    }\n",
    "    \n",
    "    fn initialize_as_first_order_tanh(&mut self) {\n",
    "        self.state = ProcessorState(Tanh, FirstOrder);\n",
    "        self.proc = ADAA::first_order_tanh();\n",
    "    }\n",
    "    \n",
    "    fn initialize_as_second_order_hc(&mut self) {\n",
    "        self.state = ProcessorState(HardClip, SecondOrder);\n",
    "        self.proc = ADAA::second_order_hard_clip();\n",
    "    }\n",
    "    \n",
    "    fn initialize_as_second_order_tanh(&mut self) {\n",
    "        self.state = ProcessorState(Tanh, SecondOrder);\n",
    "        self.proc = ADAA::second_order_tanh(); \n",
    "    }\n",
    "\n",
    "}\n",
    "    "
   ]
  },
  {
   "cell_type": "code",
   "execution_count": 696,
   "id": "7937bb6c-01a4-4c93-94c5-db871d2306e7",
   "metadata": {},
   "outputs": [
    {
     "name": "stderr",
     "output_type": "stream",
     "text": [
      "The type of the variable nl was redefined, so was lost.\n"
     ]
    },
    {
     "name": "stdout",
     "output_type": "stream",
     "text": [
      "0.75\n",
      "0.75\n",
      "0.5833333\n",
      "0.50786954\n"
     ]
    },
    {
     "data": {
      "text/plain": [
       "NonlinearProcessor { state: ProcessorState(Tanh, SecondOrder), proc: ADAA { current_proc_state: ProcState { x1: 2.0, x2: 0.0, d2: 0.5078695292078509, ad1_x1: 0.0, ad2_x0: 1.0157390584157018, ad2_x1: 1.0157390584157018, nl_func: 0x105fd6614, nl_func_ad1: 0x105fd673c, nl_func_ad2: 0x105fd6578 }, proc_alg: 0x105fd679c } }"
      ]
     },
     "execution_count": 696,
     "metadata": {},
     "output_type": "execute_result"
    }
   ],
   "source": [
    "let mut nl = NonlinearProcessor::new();\n",
    "println!(\"{}\", nl.process(2.));\n",
    "nl.change_state(ChangeStyle(HardClip));\n",
    "println!(\"{}\", nl.process(2.));\n",
    "nl.change_state(ChangeOrder(SecondOrder));\n",
    "println!(\"{}\", nl.process(2.));\n",
    "nl.change_state(ChangeStyle(Tanh));\n",
    "println!(\"{}\", nl.process(2.));\n",
    "nl"
   ]
  },
  {
   "cell_type": "code",
   "execution_count": 681,
   "id": "b9ab8991-d329-436a-a7d8-3279e6ec43e0",
   "metadata": {},
   "outputs": [],
   "source": [
    ":clear"
   ]
  },
  {
   "cell_type": "code",
   "execution_count": 692,
   "id": "9304de9d-685d-4f29-b83f-413ab88661b5",
   "metadata": {},
   "outputs": [],
   "source": [
    "use polylog::Li2;\n",
    "use std::f64::consts::PI;\n"
   ]
  },
  {
   "cell_type": "code",
   "execution_count": 691,
   "id": "252e6bdc-1417-4b9f-a57a-d604617bc5b1",
   "metadata": {},
   "outputs": [],
   "source": [
    ":dep polylog"
   ]
  },
  {
   "cell_type": "code",
   "execution_count": 728,
   "id": "a04a8c6c-ccec-4a75-a2fe-de0ca5cb286f",
   "metadata": {},
   "outputs": [],
   "source": [
    ":dep arrayvec\n",
    "use arrayvec::ArrayVec;"
   ]
  },
  {
   "cell_type": "code",
   "execution_count": 715,
   "id": "b4879170-0a4b-463b-a0b2-ae2a68f417cc",
   "metadata": {},
   "outputs": [
    {
     "name": "stdout",
     "output_type": "stream",
     "text": [
      "1\n",
      "4\n",
      "9\n",
      "15\n",
      "21\n"
     ]
    },
    {
     "data": {
      "text/plain": [
       "()"
      ]
     },
     "execution_count": 715,
     "metadata": {},
     "output_type": "execute_result"
    }
   ],
   "source": [
    "{\n",
    "let slice = &[0, 0, 0, 1, 2, 3, 4, 5];\n",
    "let kern = &[1, 2, 2, 1];\n",
    "let mut iter = slice.windows(4).map(|x| \n",
    "                                    x.iter().zip(kern.iter()).fold(0, \n",
    "                                                                   |acc, (y, z)| acc + (y * z))\n",
    "                                   );\n",
    "for w in iter {\n",
    "    println!(\"{:?}\", w);\n",
    "}\n",
    "}"
   ]
  },
  {
   "cell_type": "code",
   "execution_count": 758,
   "id": "529d1bdb-f4f5-41cb-919a-c2557a9764aa",
   "metadata": {},
   "outputs": [
    {
     "data": {
      "text/plain": [
       "[0, 0, 0, 0, 0, 0, 0, 0, 0, 19, -82, 1, -26, 0, -11, -59, 60, 31, 86, -3, 95, -85, -61, -40, 68, -37, -11, -45, 96, -61, 43, -27, 13, -88, -35, -70, -71, -1, -60, 81, 34, 0, -89, 24, 97, -40, -58, 94, 47, 83, -55, -3, 13, -78, -50, 9, 62, -82, -43, 22, -12, 82, -20, 87, -1, -22, -83, -49, 5, -53, -69, -11, 59, -69, 64, 23, -60, -75, -51, 39, -51, -6, 62, 37, 64, 54, -46, -21, -39, -19, -73, 29, 46, -78, -61, -45, 74, -91, 67, -77, 65, 69, -42, 58, 91, 2, -79, 28, 39]"
      ]
     },
     "execution_count": 758,
     "metadata": {},
     "output_type": "execute_result"
    }
   ],
   "source": [
    "{\n",
    "let mut orig = ArrayVec::<i32, 109>::from([0; 109]);\n",
    "orig[9..].clone_from_slice(&signal);\n",
    "\n",
    "let mut zero_padded = orig.clone();\n",
    "\n",
    "let mut zero_iter = orig.windows(10);\n",
    "let kernel_arr = ArrayVec::<i32, 10>::from_iter(kern.into_iter());\n",
    "\n",
    "zero_padded.iter_mut().zip(zero_iter).for_each(\n",
    "    |(v, i)| \n",
    "        *v = i.iter().zip(kernel_arr.iter())\n",
    "            .fold(0, |acc, (x, k)| acc + (x * k))\n",
    ");\n",
    "\n",
    "zero_padded\n",
    "\n",
    "}"
   ]
  },
  {
   "cell_type": "code",
   "execution_count": 717,
   "id": "067d9eef-7d38-46c7-993a-107a1601741b",
   "metadata": {},
   "outputs": [],
   "source": [
    ":dep rand"
   ]
  },
  {
   "cell_type": "code",
   "execution_count": 757,
   "id": "8ed851ef-2bf2-46f7-84d6-86eb5f307a93",
   "metadata": {},
   "outputs": [
    {
     "name": "stdout",
     "output_type": "stream",
     "text": [
      "[19, -82, 1, -26, 0, -11, -59, 60, 31, 86, -3, 95, -85, -61, -40, 68, -37, -11, -45, 96, -61, 43, -27, 13, -88, -35, -70, -71, -1, -60, 81, 34, 0, -89, 24, 97, -40, -58, 94, 47, 83, -55, -3, 13, -78, -50, 9, 62, -82, -43, 22, -12, 82, -20, 87, -1, -22, -83, -49, 5, -53, -69, -11, 59, -69, 64, 23, -60, -75, -51, 39, -51, -6, 62, 37, 64, 54, -46, -21, -39, -19, -73, 29, 46, -78, -61, -45, 74, -91, 67, -77, 65, 69, -42, 58, 91, 2, -79, 28, 39]\n",
      "[1, 0, 0, 0, 0, 0, 0, 0, 0, 0]\n"
     ]
    }
   ],
   "source": [
    "use rand::{distributions::Uniform, Rng};\n",
    "\n",
    "let mut rng = rand::thread_rng();\n",
    "let signal: Vec<i32> = (0..100).map(|_| rng.sample(Uniform::new(-100, 100))).collect();\n",
    "let kern = [vec![1], vec![0; 9]].concat();\n",
    "println!(\"{:?}\", signal);\n",
    "println!(\"{:?}\", kern);"
   ]
  },
  {
   "cell_type": "code",
   "execution_count": 759,
   "id": "9cafe120-19a5-4bda-a0cd-b94131ba1ff0",
   "metadata": {},
   "outputs": [
    {
     "name": "stderr",
     "output_type": "stream",
     "text": [
      "Scooby\n"
     ]
    },
    {
     "data": {
      "text/plain": [
       "()"
      ]
     },
     "execution_count": 759,
     "metadata": {},
     "output_type": "execute_result"
    }
   ],
   "source": [
    "eprintln!(\"Scooby\")"
   ]
  },
  {
   "cell_type": "code",
   "execution_count": 762,
   "id": "91dab59e-7ccb-4ca8-a522-e8280267a4ec",
   "metadata": {},
   "outputs": [
    {
     "data": {
      "text/plain": [
       "0.4705882352941177"
      ]
     },
     "execution_count": 762,
     "metadata": {},
     "output_type": "execute_result"
    }
   ],
   "source": [
    "let weight = 0.99;\n",
    "let current = 0.85;\n",
    "let new_1 = 0.4;\n",
    "new_1 / current"
   ]
  },
  {
   "cell_type": "code",
   "execution_count": 811,
   "id": "fd3f6885-6581-48d6-a9fd-3e7241b88fc2",
   "metadata": {},
   "outputs": [],
   "source": [
    "#[derive(Debug)]\n",
    "struct Smoother {\n",
    "    current_state: SmootherState,\n",
    "    current_value: f32,\n",
    "    target_value: f32,\n",
    "}\n",
    "\n",
    "#[derive(Debug, Copy, Clone)]\n",
    "enum SmootherState {\n",
    "    IsSmoothing(f32),\n",
    "    NotSmoothing,\n",
    "}\n",
    "use SmootherState::*;\n",
    "\n",
    "#[derive(Debug, Copy, Clone)]\n",
    "enum SmootherTransition {\n",
    "    UpdateTarget(f32),\n",
    "    Consume,\n",
    "    TargetReached,\n",
    "}\n",
    "use SmootherTransition::*;\n",
    "\n",
    "impl Smoother {\n",
    "    fn new() -> Self {\n",
    "        Smoother { current_state: NotSmoothing, current_value: 0.0, target_value: 0.0 }\n",
    "    }\n",
    "    \n",
    "    fn change_state(&mut self, transition: SmootherTransition) {\n",
    "        self.current_state = match (self.current_state, transition) {\n",
    "            (NotSmoothing, UpdateTarget(x)) => {  \n",
    "                self.target_value = x;\n",
    "                IsSmoothing(x) \n",
    "            },\n",
    "            (IsSmoothing(x), Consume) => IsSmoothing(x),\n",
    "            (_, TargetReached) => NotSmoothing,\n",
    "            (IsSmoothing(_), UpdateTarget(y)) => IsSmoothing(y),\n",
    "            (_, Consume) => NotSmoothing,\n",
    "        }\n",
    "    }\n",
    "\n",
    "    fn consume(&self) -> f32 {\n",
    "        let result = self.current_value;\n",
    "        if result == self.target_value {\n",
    "            self.change_state(TargetReached);\n",
    "        else {\n",
    "            \n",
    "        }\n",
    "    }\n",
    "}\n"
   ]
  },
  {
   "cell_type": "code",
   "execution_count": 812,
   "id": "106c911d-027a-4a95-a407-33ebde0139ac",
   "metadata": {},
   "outputs": [
    {
     "data": {
      "text/plain": [
       "Smoother { current_state: IsSmoothing(1.0), current_value: 0.0, target_value: 2.0 }"
      ]
     },
     "execution_count": 812,
     "metadata": {},
     "output_type": "execute_result"
    }
   ],
   "source": [
    "let mut st = Smoother::new();\n",
    "st.change_state(UpdateTarget(2.0));\n",
    "st.change_state(UpdateTarget(1.0));\n",
    "st.change_state(Consume);\n",
    "st"
   ]
  },
  {
   "cell_type": "code",
   "execution_count": 821,
   "id": "17dccfe2-2bfa-4efb-b638-ed9b10795113",
   "metadata": {},
   "outputs": [],
   "source": [
    "use std::sync::Arc;\n",
    "use std::sync::atomic::Ordering;\n",
    "use atomic_float::AtomicF32;"
   ]
  },
  {
   "cell_type": "code",
   "execution_count": 824,
   "id": "78c77c83-3c90-4ee6-a99f-25e76a9080e0",
   "metadata": {},
   "outputs": [],
   "source": [
    "#[derive(Debug)]\n",
    "struct Meter {\n",
    "    current_value: Arc<AtomicF32>,\n",
    "    target_value: Arc<AtomicF32>,\n",
    "    smooth_state: SmootherState,\n",
    "}\n",
    "\n",
    "impl Meter {\n",
    "    fn new() -> Self {\n",
    "        Meter {\n",
    "            current_value: Arc::new(AtomicF32::new(0.0)),\n",
    "            target_value: Arc::new(AtomicF32::new(0.0)),\n",
    "            smooth_state: NotSmoothing,\n",
    "        }\n",
    "    }\n",
    "\n",
    "    fn update_target(&mut self, new_value: f32) {\n",
    "        if new_value > self.current_value \n",
    "    }\n",
    "}"
   ]
  },
  {
   "cell_type": "code",
   "execution_count": 825,
   "id": "d90d5560-bb89-4c2e-b2ae-dd57fb44eb72",
   "metadata": {},
   "outputs": [
    {
     "name": "stderr",
     "output_type": "stream",
     "text": [
      "The type of the variable st was redefined, so was lost.\n",
      "The type of the variable rng was redefined, so was lost.\n"
     ]
    },
    {
     "data": {
      "text/plain": [
       "Meter { current_value: 0.0, target_value: 0.0, smooth_state: NotSmoothing }"
      ]
     },
     "execution_count": 825,
     "metadata": {},
     "output_type": "execute_result"
    }
   ],
   "source": []
  },
  {
   "cell_type": "code",
   "execution_count": 832,
   "id": "6922c91d-4cb8-4fcc-90bb-1520edc07b87",
   "metadata": {},
   "outputs": [],
   "source": [
    "let scale = 0.25f64.powf((48000.0f64 * 150.0f64 / 1000.0f64).recip());"
   ]
  },
  {
   "cell_type": "code",
   "execution_count": 840,
   "id": "1478c6c7-d21f-4ec9-87e2-0529e80ff6cb",
   "metadata": {},
   "outputs": [
    {
     "data": {
      "text/plain": [
       "0.36999614955302634"
      ]
     },
     "execution_count": 840,
     "metadata": {},
     "output_type": "execute_result"
    }
   ],
   "source": [
    "0.37 * (scale) + 0.35 * (1.0 - scale)"
   ]
  },
  {
   "cell_type": "code",
   "execution_count": null,
   "id": "1f77c013-a784-4314-b99f-f588f1727e51",
   "metadata": {},
   "outputs": [],
   "source": []
  }
 ],
 "metadata": {
  "kernelspec": {
   "display_name": "Rust",
   "language": "rust",
   "name": "rust"
  },
  "language_info": {
   "codemirror_mode": "rust",
   "file_extension": ".rs",
   "mimetype": "text/rust",
   "name": "Rust",
   "pygment_lexer": "rust",
   "version": ""
  }
 },
 "nbformat": 4,
 "nbformat_minor": 5
}
