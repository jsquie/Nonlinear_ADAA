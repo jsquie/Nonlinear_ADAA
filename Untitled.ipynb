{
 "cells": [
  {
   "cell_type": "code",
   "execution_count": null,
   "id": "96604047-406a-4b6e-85dc-96a0b9e7d40c",
   "metadata": {},
   "outputs": [],
   "source": []
  },
  {
   "cell_type": "code",
   "execution_count": 4,
   "id": "99495ec1-ec83-4e50-924e-b9f25b9b0b3f",
   "metadata": {},
   "outputs": [
    {
     "data": {
      "text/plain": [
       "2"
      ]
     },
     "execution_count": 4,
     "metadata": {},
     "output_type": "execute_result"
    }
   ],
   "source": [
    "fn dot(p: usize, v1: Vec<i32>, v2: Vec<i32>) -> i32 {\n",
    "    let o = v2.len() - p;\n",
    "    let fh = v1[p..].iter().zip(v2[..o].iter()).map(|(a, b)| a * b).collect::<Vec<_>>();\n",
    "    let sh = v1[..p].iter().zip(v2[o..].iter()).map(|(a, b)| a * b).collect::<Vec<_>>();\n",
    "    fh.iter().sum::<i32>() + sh.iter().sum::<i32>()\n",
    "}\n",
    "\n",
    "dot(1, vec![0, 1, 2], vec![0, 1, 2])\n"
   ]
  },
  {
   "cell_type": "code",
   "execution_count": 8,
   "id": "a4061fb6-7f97-459b-8581-7192d88f195d",
   "metadata": {},
   "outputs": [
    {
     "data": {
      "text/plain": [
       "[0, 1, 4]"
      ]
     },
     "execution_count": 8,
     "metadata": {},
     "output_type": "execute_result"
    }
   ],
   "source": [
    "vec![dot(0, vec![0, 0, 0], vec![0, 1, 2]), dot(1, vec![0, 0, 1], vec![0, 1, 2]), dot(2, vec![0, 2, 1], vec![0, 1, 2]), dot(]"
   ]
  },
  {
   "cell_type": "code",
   "execution_count": 6,
   "id": "d4f57e2f-61dc-4147-976b-5fd1d1b465a3",
   "metadata": {},
   "outputs": [
    {
     "data": {
      "text/plain": [
       "2"
      ]
     },
     "execution_count": 6,
     "metadata": {},
     "output_type": "execute_result"
    }
   ],
   "source": [
    "dot(2, vec![0, 1, 2], vec![0, 1, 2])"
   ]
  },
  {
   "cell_type": "code",
   "execution_count": null,
   "id": "8ffbafd9-d41a-497f-b34b-f9fb019f0921",
   "metadata": {},
   "outputs": [],
   "source": []
  }
 ],
 "metadata": {
  "kernelspec": {
   "display_name": "Rust",
   "language": "rust",
   "name": "rust"
  },
  "language_info": {
   "codemirror_mode": "rust",
   "file_extension": ".rs",
   "mimetype": "text/rust",
   "name": "Rust",
   "pygment_lexer": "rust",
   "version": ""
  }
 },
 "nbformat": 4,
 "nbformat_minor": 5
}
