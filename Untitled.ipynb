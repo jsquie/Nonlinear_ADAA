{
 "cells": [
  {
   "cell_type": "code",
   "execution_count": 2,
   "id": "c6039971-58d2-4b75-bcec-3afbc31bed5e",
   "metadata": {},
   "outputs": [],
   "source": [
    "import numpy as np\n",
    "from scipy import signal\n",
    "from matplotlib import pyplot"
   ]
  },
  {
   "cell_type": "code",
   "execution_count": 4,
   "id": "4efb5c4c-58f1-4b9a-a275-75401cfd1115",
   "metadata": {},
   "outputs": [],
   "source": [
    "sig = np.sin(2 * np.pi * np.linspace(0, 1, 44100, False))"
   ]
  },
  {
   "cell_type": "code",
   "execution_count": 6,
   "id": "ae3c5667-f91d-472d-bea3-6b9ec1120c83",
   "metadata": {},
   "outputs": [
    {
     "data": {
      "text/plain": [
       "array([-0.00057226, -0.00060791,  0.00068073,  0.00079408, -0.00095147,\n",
       "       -0.00115656,  0.00141321,  0.00172556, -0.00209806, -0.00253565,\n",
       "        0.00304381,  0.00362882, -0.00429793, -0.00505971,  0.0059245 ,\n",
       "        0.00690496, -0.00801689, -0.00928042,  0.01072165,  0.01237514,\n",
       "       -0.01428766, -0.01652413,  0.01917721,  0.0223838 , -0.0263546 ,\n",
       "       -0.03143101,  0.03820408,  0.04779207, -0.06259374, -0.08884954,\n",
       "        0.14944755,  0.45040037,  0.45040037,  0.14944755, -0.08884954,\n",
       "       -0.06259374,  0.04779207,  0.03820408, -0.03143101, -0.0263546 ,\n",
       "        0.0223838 ,  0.01917721, -0.01652413, -0.01428766,  0.01237514,\n",
       "        0.01072165, -0.00928042, -0.00801689,  0.00690496,  0.0059245 ,\n",
       "       -0.00505971, -0.00429793,  0.00362882,  0.00304381, -0.00253565,\n",
       "       -0.00209806,  0.00172556,  0.00141321, -0.00115656, -0.00095147,\n",
       "        0.00079408,  0.00068073, -0.00060791, -0.00057226])"
      ]
     },
     "execution_count": 6,
     "metadata": {},
     "output_type": "execute_result"
    }
   ],
   "source": [
    "signal.firwin(64, 0.5)"
   ]
  },
  {
   "cell_type": "code",
   "execution_count": null,
   "id": "767e907f-8565-43a6-8266-006f49c439a0",
   "metadata": {},
   "outputs": [],
   "source": []
  }
 ],
 "metadata": {
  "kernelspec": {
   "display_name": "Python 3 (ipykernel)",
   "language": "python",
   "name": "python3"
  },
  "language_info": {
   "codemirror_mode": {
    "name": "ipython",
    "version": 3
   },
   "file_extension": ".py",
   "mimetype": "text/x-python",
   "name": "python",
   "nbconvert_exporter": "python",
   "pygments_lexer": "ipython3",
   "version": "3.9.13"
  }
 },
 "nbformat": 4,
 "nbformat_minor": 5
}
